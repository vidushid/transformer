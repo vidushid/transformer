{
 "cells": [
  {
   "cell_type": "code",
   "execution_count": 6,
   "id": "fedfc4c7",
   "metadata": {},
   "outputs": [
    {
     "name": "stderr",
     "output_type": "stream",
     "text": [
      "2022-10-30 15:04:21.023470: I tensorflow/core/util/util.cc:169] oneDNN custom operations are on. You may see slightly different numerical results due to floating-point round-off errors from different computation orders. To turn them off, set the environment variable `TF_ENABLE_ONEDNN_OPTS=0`.\n"
     ]
    }
   ],
   "source": [
    "import pandas as pd\n",
    "import pathlib\n",
    "import random\n",
    "import string\n",
    "import re\n",
    "import numpy as np\n",
    "import tensorflow as tf\n",
    "from tensorflow import keras\n",
    "from tensorflow.keras import layers\n",
    "from tensorflow.keras.layers import TextVectorization\n",
    "import matplotlib.pyplot as plt\n",
    "from keras.callbacks import ModelCheckpoint"
   ]
  },
  {
   "cell_type": "code",
   "execution_count": 7,
   "id": "a59044c9",
   "metadata": {},
   "outputs": [
    {
     "name": "stdout",
     "output_type": "stream",
     "text": [
      "Num GPUs Available:  2\n"
     ]
    }
   ],
   "source": [
    "print(\"Num GPUs Available: \", len(tf.config.list_physical_devices('GPU')))"
   ]
  },
  {
   "cell_type": "code",
   "execution_count": 8,
   "id": "e386c166",
   "metadata": {},
   "outputs": [
    {
     "name": "stderr",
     "output_type": "stream",
     "text": [
      "2022-10-30 15:04:22.372281: I tensorflow/core/platform/cpu_feature_guard.cc:193] This TensorFlow binary is optimized with oneAPI Deep Neural Network Library (oneDNN) to use the following CPU instructions in performance-critical operations:  AVX2 AVX512F AVX512_VNNI FMA\n",
      "To enable them in other operations, rebuild TensorFlow with the appropriate compiler flags.\n",
      "2022-10-30 15:04:23.057663: I tensorflow/core/common_runtime/gpu/gpu_device.cc:1532] Created device /job:localhost/replica:0/task:0/device:GPU:0 with 46286 MB memory:  -> device: 0, name: NVIDIA RTX A6000, pci bus id: 0000:17:00.0, compute capability: 8.6\n",
      "2022-10-30 15:04:23.058232: I tensorflow/core/common_runtime/gpu/gpu_device.cc:1532] Created device /job:localhost/replica:0/task:0/device:GPU:1 with 46166 MB memory:  -> device: 1, name: NVIDIA RTX A6000, pci bus id: 0000:65:00.0, compute capability: 8.6\n"
     ]
    }
   ],
   "source": [
    "config = tf.compat.v1.ConfigProto()\n",
    "config.gpu_options.allow_growth = True\n",
    "sess= tf.compat.v1.Session(config=config)"
   ]
  },
  {
   "cell_type": "code",
   "execution_count": 9,
   "id": "74875a81",
   "metadata": {},
   "outputs": [],
   "source": [
    "from datasets import load_dataset"
   ]
  },
  {
   "cell_type": "code",
   "execution_count": 4,
   "id": "6cc5ea41",
   "metadata": {},
   "outputs": [
    {
     "name": "stderr",
     "output_type": "stream",
     "text": [
      "Using custom data configuration cfilt--iitb-english-hindi-911387c6837f8b91\n",
      "Reusing dataset parquet (/home/karan/.cache/huggingface/datasets/parquet/cfilt--iitb-english-hindi-911387c6837f8b91/0.0.0/1638526fd0e8d960534e2155dc54fdff8dce73851f21f031d2fb9c2cf757c121)\n"
     ]
    },
    {
     "data": {
      "application/vnd.jupyter.widget-view+json": {
       "model_id": "098f5474408d409f80a71473ac6e9e70",
       "version_major": 2,
       "version_minor": 0
      },
      "text/plain": [
       "  0%|          | 0/3 [00:00<?, ?it/s]"
      ]
     },
     "metadata": {},
     "output_type": "display_data"
    }
   ],
   "source": [
    "dataset = load_dataset(\"cfilt/iitb-english-hindi\")"
   ]
  },
  {
   "cell_type": "code",
   "execution_count": 5,
   "id": "a3f52408",
   "metadata": {},
   "outputs": [
    {
     "data": {
      "text/plain": [
       "DatasetDict({\n",
       "    test: Dataset({\n",
       "        features: ['translation'],\n",
       "        num_rows: 2507\n",
       "    })\n",
       "    validation: Dataset({\n",
       "        features: ['translation'],\n",
       "        num_rows: 520\n",
       "    })\n",
       "    train: Dataset({\n",
       "        features: ['translation'],\n",
       "        num_rows: 1659083\n",
       "    })\n",
       "})"
      ]
     },
     "execution_count": 5,
     "metadata": {},
     "output_type": "execute_result"
    }
   ],
   "source": [
    "dataset"
   ]
  },
  {
   "cell_type": "code",
   "execution_count": 7,
   "id": "87b2f231",
   "metadata": {},
   "outputs": [],
   "source": [
    "source_train_file = open(\"source_train.txt\", \"w+\", encoding='utf8')\n",
    "target_train_file = open(\"target_train.txt\", \"w+\", encoding='utf8')\n",
    "for translation_pair in dataset[\"train\"][\"translation\"]:\n",
    "    source_sentence = translation_pair[\"en\"]\n",
    "    target_sentence = translation_pair[\"hi\"]\n",
    "    source_train_file.write(source_sentence.strip(\"\\n\") + \"\\n\")\n",
    "    target_train_file.write(target_sentence.strip(\"\\n\") + \"\\n\")\n",
    "source_train_file.close()\n",
    "target_train_file.close()\n",
    "\n",
    "source_valid_file = open(\"source_valid.txt\", \"w+\", encoding='utf8')\n",
    "target_valid_file = open(\"target_valid.txt\", \"w+\", encoding='utf8')\n",
    "for translation_pair in dataset[\"validation\"][\"translation\"]:\n",
    "    source_sentence = translation_pair[\"en\"]\n",
    "    target_sentence = translation_pair[\"hi\"]\n",
    "    source_valid_file.write(source_sentence.strip(\"\\n\") + \"\\n\")\n",
    "    target_valid_file.write(target_sentence.strip(\"\\n\") + \"\\n\")\n",
    "source_valid_file.close()\n",
    "target_valid_file.close()\n",
    "\n",
    "source_test_file = open(\"source_test.txt\", \"w+\", encoding='utf8')\n",
    "target_test_file = open(\"target_test.txt\", \"w+\", encoding='utf8')\n",
    "for translation_pair in dataset[\"test\"][\"translation\"]:\n",
    "    source_sentence = translation_pair[\"en\"]\n",
    "    target_sentence = translation_pair[\"hi\"]\n",
    "    source_test_file.write(source_sentence.strip(\"\\n\") + \"\\n\")\n",
    "    target_test_file.write(target_sentence.strip(\"\\n\") + \"\\n\")\n",
    "source_test_file.close()\n",
    "target_test_file.close()"
   ]
  },
  {
   "cell_type": "code",
   "execution_count": 10,
   "id": "ec68f40f",
   "metadata": {},
   "outputs": [],
   "source": [
    "eng_train = [line.rstrip() for line in open('source_train.txt')]\n",
    "hi_train = [line.rstrip() for line in open('target_train.txt')]"
   ]
  },
  {
   "cell_type": "code",
   "execution_count": 11,
   "id": "02d193de",
   "metadata": {},
   "outputs": [
    {
     "name": "stdout",
     "output_type": "stream",
     "text": [
      "1659083 1659083\n"
     ]
    }
   ],
   "source": [
    "print(len(eng_train),len(hi_train))"
   ]
  },
  {
   "cell_type": "code",
   "execution_count": 21,
   "id": "8c6c529e",
   "metadata": {},
   "outputs": [],
   "source": [
    "eng_train = eng_train[:100000]\n",
    "hi_train =hi_train[:100000]"
   ]
  },
  {
   "cell_type": "code",
   "execution_count": 22,
   "id": "a3ba5293",
   "metadata": {},
   "outputs": [
    {
     "data": {
      "text/plain": [
       "['Give your application an accessibility workout',\n",
       " 'Accerciser Accessibility Explorer',\n",
       " 'The default plugin layout for the bottom panel',\n",
       " 'The default plugin layout for the top panel',\n",
       " 'A list of plugins that are disabled by default']"
      ]
     },
     "execution_count": 22,
     "metadata": {},
     "output_type": "execute_result"
    }
   ],
   "source": [
    "eng_train[:5]"
   ]
  },
  {
   "cell_type": "code",
   "execution_count": 23,
   "id": "7db640e1",
   "metadata": {},
   "outputs": [
    {
     "data": {
      "text/plain": [
       "['अपने अनुप्रयोग को पहुंचनीयता व्यायाम का लाभ दें',\n",
       " 'एक्सेर्साइसर पहुंचनीयता अन्वेषक',\n",
       " 'निचले पटल के लिए डिफोल्ट प्लग-इन खाका',\n",
       " 'ऊपरी पटल के लिए डिफोल्ट प्लग-इन खाका',\n",
       " 'उन प्लग-इनों की सूची जिन्हें डिफोल्ट रूप से निष्क्रिय किया गया है']"
      ]
     },
     "execution_count": 23,
     "metadata": {},
     "output_type": "execute_result"
    }
   ],
   "source": [
    "hi_train[:5]"
   ]
  },
  {
   "cell_type": "code",
   "execution_count": 24,
   "id": "6fab386e",
   "metadata": {},
   "outputs": [],
   "source": [
    "text_pairs = []\n",
    "for eng, hi in zip(eng_train, hi_train):\n",
    "    hi = \"[start] \" + hi + \" [end]\"\n",
    "    text_pairs.append((eng, hi))"
   ]
  },
  {
   "cell_type": "code",
   "execution_count": 25,
   "id": "b2187698",
   "metadata": {},
   "outputs": [
    {
     "name": "stdout",
     "output_type": "stream",
     "text": [
      "('Search in project files', '[start] खोलें फ़ाइल [end]')\n",
      "('Add wire outlines for all geometry', '[start] सारे ज्यामिति के लिए तार रूपरेखा जोड़ें [end]')\n",
      "('Changes the visibility of the image gallery pane in the current window', '[start] परिवर्तन का छवि इंच विंडो [end]')\n",
      "('Allows files not stored locally to be burned', '[start] उन फाइलों जो स्थानीय रूप से जमा नहीं है को लिखने देता है [end]')\n",
      "('Widgets', '[start] विजेट्स [end]')\n"
     ]
    }
   ],
   "source": [
    "for _ in range(5):\n",
    "    print(random.choice(text_pairs))"
   ]
  },
  {
   "cell_type": "code",
   "execution_count": 26,
   "id": "c7a9da15",
   "metadata": {},
   "outputs": [
    {
     "name": "stdout",
     "output_type": "stream",
     "text": [
      "100000 total pairs\n",
      "70000 training pairs\n",
      "15000 validation pairs\n",
      "15000 test pairs\n"
     ]
    }
   ],
   "source": [
    "random.shuffle(text_pairs)\n",
    "num_val_samples = int(0.15 * len(text_pairs))\n",
    "num_train_samples = len(text_pairs) - 2 * num_val_samples\n",
    "train_pairs = text_pairs[:num_train_samples]\n",
    "val_pairs = text_pairs[num_train_samples : num_train_samples + num_val_samples]\n",
    "test_pairs = text_pairs[num_train_samples + num_val_samples :]\n",
    "\n",
    "print(f\"{len(text_pairs)} total pairs\")\n",
    "print(f\"{len(train_pairs)} training pairs\")\n",
    "print(f\"{len(val_pairs)} validation pairs\")\n",
    "print(f\"{len(test_pairs)} test pairs\")"
   ]
  },
  {
   "cell_type": "code",
   "execution_count": 27,
   "id": "425a1aa8",
   "metadata": {},
   "outputs": [],
   "source": [
    "all_lengths=[]\n",
    "for en,hi in zip(eng_train,hi_train):\n",
    "    all_lengths.append(max(len(en.split()),len(hi.split())))"
   ]
  },
  {
   "cell_type": "code",
   "execution_count": 28,
   "id": "a9c04b76",
   "metadata": {},
   "outputs": [
    {
     "data": {
      "image/png": "[encoded data removed]",
      "text/plain": [
       "<Figure size 432x288 with 1 Axes>"
      ]
     },
     "metadata": {
      "needs_background": "light"
     },
     "output_type": "display_data"
    }
   ],
   "source": [
    "plt.hist(all_lengths, np.linspace(np.min(all_lengths), 250, 101))\n",
    "plt.ylim(plt.ylim())\n",
    "max_length = max(all_lengths)\n",
    "# plt.plot([max_length, max_length], plt.ylim())\n",
    "plt.title(f'Max tokens per example: {max_length}');"
   ]
  },
  {
   "cell_type": "code",
   "execution_count": 29,
   "id": "27832825",
   "metadata": {},
   "outputs": [],
   "source": [
    "strip_chars = string.punctuation + \"¿\"\n",
    "strip_chars = strip_chars.replace(\"[\", \"\")\n",
    "strip_chars = strip_chars.replace(\"]\", \"\")\n",
    "\n",
    "# vocab_size = 15000\n",
    "sequence_length = 50\n",
    "batch_size = 64\n",
    "\n",
    "\n",
    "def custom_standardization(input_string):\n",
    "    lowercase = tf.strings.lower(input_string)\n",
    "    return tf.strings.regex_replace(lowercase, \"[%s]\" % re.escape(strip_chars), \"\")\n",
    "\n",
    "\n",
    "eng_vectorization = TextVectorization(output_mode=\"int\", output_sequence_length=sequence_length,)\n",
    "\n",
    "hi_vectorization = TextVectorization(\n",
    "    output_mode=\"int\",\n",
    "    output_sequence_length=sequence_length + 1,\n",
    "    standardize=custom_standardization,\n",
    ")\n",
    "train_eng_texts = [pair[0] for pair in train_pairs]\n",
    "train_hi_texts = [pair[1] for pair in train_pairs]\n",
    "eng_vectorization.adapt(train_eng_texts)\n",
    "hi_vectorization.adapt(train_hi_texts)"
   ]
  },
  {
   "cell_type": "code",
   "execution_count": 30,
   "id": "eb609ed8",
   "metadata": {},
   "outputs": [],
   "source": [
    "def format_dataset(eng, hi):\n",
    "    eng = eng_vectorization(eng)\n",
    "    hi = hi_vectorization(hi)\n",
    "    return ({\"encoder_inputs\": eng, \"decoder_inputs\": hi[:, :-1],}, hi[:, 1:])\n",
    "\n",
    "\n",
    "def make_dataset(pairs):\n",
    "    eng_texts, hi_texts = zip(*pairs)\n",
    "    hi_texts = list(hi_texts)\n",
    "    eng_texts = list(eng_texts)\n",
    "    dataset = tf.data.Dataset.from_tensor_slices((eng_texts, hi_texts))\n",
    "    dataset = dataset.batch(batch_size)\n",
    "    dataset = dataset.map(format_dataset)\n",
    "    return dataset.shuffle(2048).prefetch(16).cache()\n",
    "\n",
    "\n",
    "train_ds = make_dataset(train_pairs)\n",
    "val_ds = make_dataset(val_pairs)"
   ]
  },
  {
   "cell_type": "code",
   "execution_count": 31,
   "id": "fff64dd9",
   "metadata": {},
   "outputs": [
    {
     "name": "stdout",
     "output_type": "stream",
     "text": [
      "inputs[\"encoder_inputs\"].shape: (64, 50)\n",
      "inputs[\"decoder_inputs\"].shape: (64, 50)\n",
      "targets.shape: (64, 50)\n"
     ]
    },
    {
     "name": "stderr",
     "output_type": "stream",
     "text": [
      "2022-10-30 15:17:41.977687: W tensorflow/core/kernels/data/cache_dataset_ops.cc:856] The calling iterator did not fully read the dataset being cached. In order to avoid unexpected truncation of the dataset, the partially cached contents of the dataset  will be discarded. This can happen if you have an input pipeline similar to `dataset.cache().take(k).repeat()`. You should use `dataset.take(k).cache().repeat()` instead.\n"
     ]
    }
   ],
   "source": [
    "for inputs, targets in train_ds.take(1):\n",
    "    print(f'inputs[\"encoder_inputs\"].shape: {inputs[\"encoder_inputs\"].shape}')\n",
    "    print(f'inputs[\"decoder_inputs\"].shape: {inputs[\"decoder_inputs\"].shape}')\n",
    "    print(f\"targets.shape: {targets.shape}\")"
   ]
  },
  {
   "attachments": {
    "image.png": {
     "image/png": "[encoded data removed]"
    }
   },
   "cell_type": "markdown",
   "id": "d15b650c",
   "metadata": {},
   "source": [
    "![image.png](attachment:image.png)"
   ]
  },
  {
   "cell_type": "code",
   "execution_count": 32,
   "id": "2ba8324b",
   "metadata": {},
   "outputs": [],
   "source": [
    "class TransformerEncoder(layers.Layer):\n",
    "    def __init__(self, embed_dim, dense_dim, num_heads, **kwargs):\n",
    "        super(TransformerEncoder, self).__init__(**kwargs)\n",
    "        self.embed_dim = embed_dim\n",
    "        self.dense_dim = dense_dim\n",
    "        self.num_heads = num_heads\n",
    "        self.attention = layers.MultiHeadAttention(\n",
    "            num_heads=num_heads, key_dim=embed_dim\n",
    "        )\n",
    "        self.dense_proj = keras.Sequential(\n",
    "            [layers.Dense(dense_dim, activation=\"relu\"), layers.Dense(embed_dim),]\n",
    "        )\n",
    "        self.layernorm_1 = layers.LayerNormalization()\n",
    "        self.layernorm_2 = layers.LayerNormalization()\n",
    "        self.supports_masking = True \n",
    "\n",
    "    def call(self, inputs, mask=None):\n",
    "        if mask is not None:\n",
    "            padding_mask = tf.cast(mask[:, tf.newaxis, tf.newaxis, :], dtype=\"int32\")\n",
    "        attention_output = self.attention(\n",
    "            query=inputs, value=inputs, key=inputs, attention_mask=padding_mask\n",
    "        )\n",
    "        proj_input = self.layernorm_1(inputs + attention_output)\n",
    "        proj_output = self.dense_proj(proj_input)\n",
    "        return self.layernorm_2(proj_input + proj_output)\n",
    "    def get_config(self):\n",
    "        config = super().get_config()\n",
    "        config.update({\n",
    "            \"embed_dim\": self.embed_dim,\n",
    "            \"dense_dim\": self.dense_dim,\n",
    "            \"num_heads\": self.num_heads,\n",
    "        })\n",
    "        return config\n",
    "\n",
    "\n",
    "class PositionalEmbedding(layers.Layer):\n",
    "    def __init__(self, sequence_length, vocab_size, embed_dim, **kwargs):\n",
    "        super(PositionalEmbedding, self).__init__(**kwargs)\n",
    "        self.token_embeddings = layers.Embedding(\n",
    "            input_dim=vocab_size, output_dim=embed_dim\n",
    "        )\n",
    "        self.position_embeddings = layers.Embedding(\n",
    "            input_dim=sequence_length, output_dim=embed_dim\n",
    "        )\n",
    "        self.sequence_length = sequence_length\n",
    "        self.vocab_size = vocab_size\n",
    "        self.embed_dim = embed_dim\n",
    "\n",
    "    def call(self, inputs):\n",
    "        length = tf.shape(inputs)[-1]\n",
    "        positions = tf.range(start=0, limit=length, delta=1)\n",
    "        embedded_tokens = self.token_embeddings(inputs)\n",
    "        embedded_positions = self.position_embeddings(positions)\n",
    "        return embedded_tokens + embedded_positions\n",
    "\n",
    "    def compute_mask(self, inputs, mask=None):\n",
    "        return tf.math.not_equal(inputs, 0)\n",
    "    def get_config(self):\n",
    "        config = super().get_config()\n",
    "        config.update({\n",
    "            \"sequence_length\": self.sequence_length,\n",
    "            \"vocab_size\": self.vocab_size,\n",
    "            \"embed_dim\": self.embed_dim,\n",
    "        })\n",
    "        return config\n",
    "\n",
    "\n",
    "class TransformerDecoder(layers.Layer):\n",
    "    def __init__(self, embed_dim, latent_dim, num_heads, **kwargs):\n",
    "        super(TransformerDecoder, self).__init__(**kwargs)\n",
    "        self.embed_dim = embed_dim\n",
    "        self.latent_dim = latent_dim\n",
    "        self.num_heads = num_heads\n",
    "        self.attention_1 = layers.MultiHeadAttention(\n",
    "            num_heads=num_heads, key_dim=embed_dim\n",
    "        )\n",
    "        self.attention_2 = layers.MultiHeadAttention(\n",
    "            num_heads=num_heads, key_dim=embed_dim\n",
    "        )\n",
    "        self.dense_proj = keras.Sequential(\n",
    "            [layers.Dense(latent_dim, activation=\"relu\"), layers.Dense(embed_dim),]\n",
    "        )\n",
    "        self.layernorm_1 = layers.LayerNormalization()\n",
    "        self.layernorm_2 = layers.LayerNormalization()\n",
    "        self.layernorm_3 = layers.LayerNormalization()\n",
    "        self.supports_masking = True\n",
    "\n",
    "    def call(self, inputs, encoder_outputs, mask=None):\n",
    "        causal_mask = self.get_causal_attention_mask(inputs)\n",
    "        if mask is not None:\n",
    "            padding_mask = tf.cast(mask[:, tf.newaxis, :], dtype=\"int32\")\n",
    "            padding_mask = tf.minimum(padding_mask, causal_mask)\n",
    "\n",
    "        attention_output_1 = self.attention_1(\n",
    "            query=inputs, value=inputs, key=inputs, attention_mask=causal_mask\n",
    "        )\n",
    "        out_1 = self.layernorm_1(inputs + attention_output_1)\n",
    "\n",
    "        attention_output_2 = self.attention_2(\n",
    "            query=out_1,\n",
    "            value=encoder_outputs,\n",
    "            key=encoder_outputs,\n",
    "            attention_mask=padding_mask,\n",
    "        )\n",
    "        out_2 = self.layernorm_2(out_1 + attention_output_2)\n",
    "\n",
    "        proj_output = self.dense_proj(out_2)\n",
    "        return self.layernorm_3(out_2 + proj_output)\n",
    "\n",
    "    def get_causal_attention_mask(self, inputs):\n",
    "        input_shape = tf.shape(inputs)\n",
    "        batch_size, sequence_length = input_shape[0], input_shape[1]\n",
    "        i = tf.range(sequence_length)[:, tf.newaxis]\n",
    "        j = tf.range(sequence_length)\n",
    "        mask = tf.cast(i >= j, dtype=\"int32\")\n",
    "        mask = tf.reshape(mask, (1, input_shape[1], input_shape[1]))\n",
    "        mult = tf.concat(\n",
    "            [tf.expand_dims(batch_size, -1), tf.constant([1, 1], dtype=tf.int32)],\n",
    "            axis=0,\n",
    "        )\n",
    "        return tf.tile(mask, mult)\n",
    "    def get_config(self):\n",
    "        config = super().get_config()\n",
    "        config.update({\n",
    "            \"embed_dim\": self.embed_dim,\n",
    "            \"latent_dim\": self.latent_dim,\n",
    "            \"num_heads\": self.num_heads,\n",
    "        })\n",
    "        return config\n"
   ]
  },
  {
   "cell_type": "code",
   "execution_count": 33,
   "id": "e843b73d",
   "metadata": {},
   "outputs": [
    {
     "name": "stdout",
     "output_type": "stream",
     "text": [
      "Model: \"transformer\"\n",
      "__________________________________________________________________________________________________\n",
      " Layer (type)                   Output Shape         Param #     Connected to                     \n",
      "==================================================================================================\n",
      " encoder_inputs (InputLayer)    [(None, None)]       0           []                               \n",
      "                                                                                                  \n",
      " positional_embedding (Position  (None, None, 256)   3852800     ['encoder_inputs[0][0]']         \n",
      " alEmbedding)                                                                                     \n",
      "                                                                                                  \n",
      " decoder_inputs (InputLayer)    [(None, None)]       0           []                               \n",
      "                                                                                                  \n",
      " transformer_encoder (Transform  (None, None, 256)   3155456     ['positional_embedding[0][0]']   \n",
      " erEncoder)                                                                                       \n",
      "                                                                                                  \n",
      " model_1 (Functional)           (None, None, 15000)  12967320    ['decoder_inputs[0][0]',         \n",
      "                                                                  'transformer_encoder[0][0]']    \n",
      "                                                                                                  \n",
      "==================================================================================================\n",
      "Total params: 19,975,576\n",
      "Trainable params: 19,975,576\n",
      "Non-trainable params: 0\n",
      "__________________________________________________________________________________________________\n"
     ]
    }
   ],
   "source": [
    "embed_dim = 256\n",
    "latent_dim = 2048\n",
    "num_heads = 8\n",
    "\n",
    "encoder_inputs = keras.Input(shape=(None,), dtype=\"int64\", name=\"encoder_inputs\")\n",
    "\n",
    "x = PositionalEmbedding(sequence_length, vocab_size, embed_dim)(encoder_inputs)\n",
    "\n",
    "encoder_outputs = TransformerEncoder(embed_dim, latent_dim, num_heads)(x)\n",
    "encoder = keras.Model(encoder_inputs, encoder_outputs)\n",
    "\n",
    "decoder_inputs = keras.Input(shape=(None,), dtype=\"int64\", name=\"decoder_inputs\")\n",
    "encoded_seq_inputs = keras.Input(shape=(None, embed_dim), name=\"decoder_state_inputs\")\n",
    "x = PositionalEmbedding(sequence_length, vocab_size, embed_dim)(decoder_inputs)\n",
    "\n",
    "x = TransformerDecoder(embed_dim, latent_dim, num_heads)(x, encoded_seq_inputs)\n",
    "\n",
    "x = layers.Dropout(0.5)(x)\n",
    "\n",
    "decoder_outputs = layers.Dense(vocab_size, activation=\"softmax\")(x)\n",
    "\n",
    "decoder = keras.Model([decoder_inputs, encoded_seq_inputs], decoder_outputs)\n",
    "\n",
    "decoder_outputs = decoder([decoder_inputs, encoder_outputs])\n",
    "transformer = keras.Model(\n",
    "    [encoder_inputs, decoder_inputs], decoder_outputs, name=\"transformer\"\n",
    ")\n",
    "\n",
    "transformer.summary()"
   ]
  },
  {
   "cell_type": "code",
   "execution_count": 114,
   "id": "c4c083ed",
   "metadata": {},
   "outputs": [
    {
     "name": "stdout",
     "output_type": "stream",
     "text": [
      "Model: \"transformer\"\n",
      "__________________________________________________________________________________________________\n",
      " Layer (type)                   Output Shape         Param #     Connected to                     \n",
      "==================================================================================================\n",
      " encoder_inputs (InputLayer)    [(None, None)]       0           []                               \n",
      "                                                                                                  \n",
      " positional_embedding_2 (Positi  (None, None, 128)   1929600     ['encoder_inputs[0][0]']         \n",
      " onalEmbedding)                                                                                   \n",
      "                                                                                                  \n",
      " transformer_encoder_1 (Transfo  (None, None, 128)   659712      ['positional_embedding_2[0][0]'] \n",
      " rmerEncoder)                                                                                     \n",
      "                                                                                                  \n",
      " transformer_encoder_2 (Transfo  (None, None, 128)   659712      ['transformer_encoder_1[0][0]']  \n",
      " rmerEncoder)                                                                                     \n",
      "                                                                                                  \n",
      " transformer_encoder_3 (Transfo  (None, None, 128)   659712      ['transformer_encoder_2[0][0]']  \n",
      " rmerEncoder)                                                                                     \n",
      "                                                                                                  \n",
      " transformer_encoder_4 (Transfo  (None, None, 128)   659712      ['transformer_encoder_3[0][0]']  \n",
      " rmerEncoder)                                                                                     \n",
      "                                                                                                  \n",
      " decoder_inputs (InputLayer)    [(None, None)]       0           []                               \n",
      "                                                                                                  \n",
      " transformer_encoder_5 (Transfo  (None, None, 128)   659712      ['transformer_encoder_4[0][0]']  \n",
      " rmerEncoder)                                                                                     \n",
      "                                                                                                  \n",
      " model_3 (Functional)           (None, None, 15000)  8614424     ['decoder_inputs[0][0]',         \n",
      "                                                                  'transformer_encoder_5[0][0]']  \n",
      "                                                                                                  \n",
      "==================================================================================================\n",
      "Total params: 13,842,584\n",
      "Trainable params: 13,842,584\n",
      "Non-trainable params: 0\n",
      "__________________________________________________________________________________________________\n"
     ]
    }
   ],
   "source": [
    "embed_dim = 128\n",
    "latent_dim = 512\n",
    "num_heads = 8\n",
    "no_blocks = 4\n",
    "\n",
    "encoder_inputs = keras.Input(shape=(None,), dtype=\"int64\", name=\"encoder_inputs\")\n",
    "x = PositionalEmbedding(sequence_length, vocab_size, embed_dim)(encoder_inputs)\n",
    "x = TransformerEncoder(embed_dim, latent_dim, num_heads)(x)\n",
    "\n",
    "for i in range(no_blocks):\n",
    "    x = TransformerEncoder(embed_dim, latent_dim, num_heads)(x)\n",
    "\n",
    "encoder_outputs = x\n",
    "\n",
    "# x = Encoder_layer(no_blocks, embed_dim, latent_dim, num_heads)(x)\n",
    "# encoder_outputs=x\n",
    "encoder = keras.Model(encoder_inputs, encoder_outputs)\n",
    "\n",
    "decoder_inputs = keras.Input(shape=(None,), dtype=\"int64\", name=\"decoder_inputs\")\n",
    "encoded_seq_inputs = keras.Input(shape=(None, embed_dim), name=\"decoder_state_inputs\")\n",
    "x = PositionalEmbedding(sequence_length, vocab_size, embed_dim)(decoder_inputs)\n",
    "\n",
    "for _ in range(no_blocks):\n",
    "    x = TransformerDecoder(embed_dim, latent_dim, num_heads)(x, encoded_seq_inputs)\n",
    "    x = layers.Dropout(0.5)(x)\n",
    "\n",
    "\n",
    "# x = TransformerDecoder(embed_dim, latent_dim, num_heads)(x, encoded_seq_inputs)\n",
    "# x = layers.Dropout(0.5)(x)    \n",
    "    \n",
    "decoder_outputs = layers.Dense(vocab_size, activation=\"softmax\")(x)\n",
    "decoder = keras.Model([decoder_inputs, encoded_seq_inputs], decoder_outputs)\n",
    "\n",
    "decoder_outputs = decoder([decoder_inputs, encoder_outputs])\n",
    "transformer = keras.Model(\n",
    "    [encoder_inputs, decoder_inputs], decoder_outputs, name=\"transformer\"\n",
    ")\n",
    "\n",
    "transformer.summary()"
   ]
  },
  {
   "cell_type": "code",
   "execution_count": 34,
   "id": "c4562265",
   "metadata": {},
   "outputs": [],
   "source": [
    "optimizer = tf.keras.optimizers.RMSprop(\n",
    "    learning_rate=0.001,\n",
    "    rho=0.9,\n",
    "    momentum=0.0,\n",
    "    epsilon=1e-07,\n",
    "    centered=False,\n",
    "    name='RMSprop',\n",
    ")\n",
    "\n",
    "checkpoint_path = './checkpoints/Eng_to_Spa_train'\n",
    "\n",
    "ckpt = tf.train.Checkpoint(transformer=transformer,\n",
    "                           optimizer=optimizer)\n",
    "\n",
    "ckpt_manager = tf.train.CheckpointManager(ckpt, checkpoint_path, max_to_keep=5)\n",
    "\n",
    "# if a checkpoint exists, restore the latest checkpoint.\n",
    "if ckpt_manager.latest_checkpoint:\n",
    "  ckpt.restore(ckpt_manager.latest_checkpoint)\n",
    "  print('Latest checkpoint restored!!')"
   ]
  },
  {
   "cell_type": "code",
   "execution_count": 35,
   "id": "5c346f1d",
   "metadata": {
    "scrolled": true
   },
   "outputs": [
    {
     "name": "stdout",
     "output_type": "stream",
     "text": [
      "Epoch 1/100\n"
     ]
    },
    {
     "name": "stderr",
     "output_type": "stream",
     "text": [
      "2022-10-30 15:18:21.842760: I tensorflow/stream_executor/cuda/cuda_blas.cc:1786] TensorFloat-32 will be used for the matrix multiplication. This will only be logged once.\n",
      "2022-10-30 15:18:22.195880: I tensorflow/stream_executor/cuda/cuda_dnn.cc:384] Loaded cuDNN version 8500\n"
     ]
    },
    {
     "name": "stdout",
     "output_type": "stream",
     "text": [
      "1094/1094 [==============================] - 51s 42ms/step - loss: 0.5775 - accuracy: 0.4190 - val_loss: 0.4256 - val_accuracy: 0.5461\n",
      "Epoch 2/100\n",
      "1094/1094 [==============================] - 46s 42ms/step - loss: 0.3941 - accuracy: 0.5886 - val_loss: 0.3301 - val_accuracy: 0.6498\n",
      "Epoch 3/100\n",
      "1094/1094 [==============================] - 46s 42ms/step - loss: 0.3179 - accuracy: 0.6662 - val_loss: 0.2950 - val_accuracy: 0.6955\n",
      "Epoch 4/100\n",
      "1094/1094 [==============================] - 46s 42ms/step - loss: 0.2844 - accuracy: 0.7088 - val_loss: 0.2739 - val_accuracy: 0.7262\n",
      "Epoch 5/100\n",
      "1094/1094 [==============================] - 46s 42ms/step - loss: 0.2629 - accuracy: 0.7371 - val_loss: 0.2576 - val_accuracy: 0.7453\n",
      "Epoch 6/100\n",
      "1094/1094 [==============================] - 46s 42ms/step - loss: 0.2473 - accuracy: 0.7570 - val_loss: 0.2482 - val_accuracy: 0.7599\n",
      "Epoch 7/100\n",
      "1094/1094 [==============================] - 46s 42ms/step - loss: 0.2358 - accuracy: 0.7719 - val_loss: 0.2392 - val_accuracy: 0.7715\n",
      "Epoch 8/100\n",
      "1094/1094 [==============================] - 46s 42ms/step - loss: 0.2266 - accuracy: 0.7830 - val_loss: 0.2315 - val_accuracy: 0.7802\n",
      "Epoch 9/100\n",
      "1094/1094 [==============================] - 46s 42ms/step - loss: 0.2184 - accuracy: 0.7934 - val_loss: 0.2266 - val_accuracy: 0.7866\n",
      "Epoch 10/100\n",
      "1094/1094 [==============================] - 46s 42ms/step - loss: 0.2115 - accuracy: 0.8014 - val_loss: 0.2208 - val_accuracy: 0.7949\n",
      "Epoch 11/100\n",
      "1094/1094 [==============================] - 46s 42ms/step - loss: 0.2055 - accuracy: 0.8086 - val_loss: 0.2170 - val_accuracy: 0.7979\n",
      "Epoch 12/100\n",
      "1094/1094 [==============================] - 46s 42ms/step - loss: 0.2002 - accuracy: 0.8144 - val_loss: 0.2128 - val_accuracy: 0.8035\n",
      "Epoch 13/100\n",
      "1094/1094 [==============================] - 46s 42ms/step - loss: 0.1957 - accuracy: 0.8195 - val_loss: 0.2076 - val_accuracy: 0.8092\n",
      "Epoch 14/100\n",
      "1094/1094 [==============================] - 46s 42ms/step - loss: 0.1915 - accuracy: 0.8239 - val_loss: 0.2057 - val_accuracy: 0.8118\n",
      "Epoch 15/100\n",
      "1094/1094 [==============================] - 46s 42ms/step - loss: 0.1876 - accuracy: 0.8284 - val_loss: 0.2021 - val_accuracy: 0.8159\n",
      "Epoch 16/100\n",
      "1094/1094 [==============================] - 46s 42ms/step - loss: 0.1839 - accuracy: 0.8318 - val_loss: 0.1998 - val_accuracy: 0.8204\n",
      "Epoch 17/100\n",
      "1094/1094 [==============================] - 46s 42ms/step - loss: 0.1805 - accuracy: 0.8353 - val_loss: 0.1982 - val_accuracy: 0.8197\n",
      "Epoch 18/100\n",
      "1094/1094 [==============================] - 46s 42ms/step - loss: 0.1778 - accuracy: 0.8381 - val_loss: 0.1934 - val_accuracy: 0.8261\n",
      "Epoch 19/100\n",
      "1094/1094 [==============================] - 46s 42ms/step - loss: 0.1749 - accuracy: 0.8410 - val_loss: 0.1929 - val_accuracy: 0.8275\n",
      "Epoch 20/100\n",
      "1094/1094 [==============================] - 46s 42ms/step - loss: 0.1727 - accuracy: 0.8432 - val_loss: 0.1901 - val_accuracy: 0.8300\n",
      "Epoch 21/100\n",
      "1094/1094 [==============================] - 46s 42ms/step - loss: 0.1705 - accuracy: 0.8455 - val_loss: 0.1903 - val_accuracy: 0.8322\n",
      "Epoch 22/100\n",
      "1094/1094 [==============================] - 46s 42ms/step - loss: 0.1680 - accuracy: 0.8479 - val_loss: 0.1867 - val_accuracy: 0.8357\n",
      "Epoch 23/100\n",
      "1094/1094 [==============================] - 46s 42ms/step - loss: 0.1660 - accuracy: 0.8499 - val_loss: 0.1859 - val_accuracy: 0.8357\n",
      "Epoch 24/100\n",
      "1094/1094 [==============================] - 46s 42ms/step - loss: 0.1642 - accuracy: 0.8513 - val_loss: 0.1832 - val_accuracy: 0.8398\n",
      "Epoch 25/100\n",
      "1094/1094 [==============================] - 46s 42ms/step - loss: 0.1627 - accuracy: 0.8529 - val_loss: 0.1856 - val_accuracy: 0.8370\n",
      "Epoch 26/100\n",
      "1094/1094 [==============================] - 46s 42ms/step - loss: 0.1611 - accuracy: 0.8545 - val_loss: 0.1811 - val_accuracy: 0.8414\n",
      "Epoch 27/100\n",
      "1094/1094 [==============================] - 46s 42ms/step - loss: 0.1601 - accuracy: 0.8556 - val_loss: 0.1809 - val_accuracy: 0.8421\n",
      "Epoch 28/100\n",
      "1094/1094 [==============================] - 46s 42ms/step - loss: 0.1585 - accuracy: 0.8569 - val_loss: 0.1792 - val_accuracy: 0.8437\n",
      "Epoch 29/100\n",
      "1094/1094 [==============================] - 46s 42ms/step - loss: 0.1571 - accuracy: 0.8583 - val_loss: 0.1776 - val_accuracy: 0.8452\n",
      "Epoch 30/100\n",
      "1094/1094 [==============================] - 46s 42ms/step - loss: 0.1560 - accuracy: 0.8595 - val_loss: 0.1784 - val_accuracy: 0.8441\n",
      "Epoch 31/100\n",
      "1094/1094 [==============================] - 46s 42ms/step - loss: 0.1551 - accuracy: 0.8605 - val_loss: 0.1770 - val_accuracy: 0.8460\n",
      "Epoch 32/100\n",
      "1094/1094 [==============================] - 46s 42ms/step - loss: 0.1537 - accuracy: 0.8617 - val_loss: 0.1766 - val_accuracy: 0.8472\n",
      "Epoch 33/100\n",
      "1094/1094 [==============================] - 46s 42ms/step - loss: 0.1527 - accuracy: 0.8628 - val_loss: 0.1760 - val_accuracy: 0.8482\n",
      "Epoch 34/100\n",
      "1094/1094 [==============================] - 46s 42ms/step - loss: 0.1521 - accuracy: 0.8632 - val_loss: 0.1737 - val_accuracy: 0.8492\n",
      "Epoch 35/100\n",
      "1094/1094 [==============================] - 46s 42ms/step - loss: 0.1512 - accuracy: 0.8643 - val_loss: 0.1746 - val_accuracy: 0.8508\n",
      "Epoch 36/100\n",
      "1094/1094 [==============================] - 46s 42ms/step - loss: 0.1501 - accuracy: 0.8652 - val_loss: 0.1750 - val_accuracy: 0.8492\n",
      "Epoch 37/100\n",
      "1094/1094 [==============================] - 46s 42ms/step - loss: 0.1490 - accuracy: 0.8660 - val_loss: 0.1750 - val_accuracy: 0.8485\n",
      "Epoch 38/100\n",
      "1094/1094 [==============================] - 46s 42ms/step - loss: 0.1483 - accuracy: 0.8670 - val_loss: 0.1736 - val_accuracy: 0.8513\n",
      "Epoch 39/100\n",
      "1094/1094 [==============================] - 46s 42ms/step - loss: 0.1478 - accuracy: 0.8675 - val_loss: 0.1708 - val_accuracy: 0.8542\n",
      "Epoch 40/100\n",
      "1094/1094 [==============================] - 46s 42ms/step - loss: 0.1471 - accuracy: 0.8679 - val_loss: 0.1728 - val_accuracy: 0.8530\n",
      "Epoch 41/100\n",
      "1094/1094 [==============================] - 46s 42ms/step - loss: 0.1466 - accuracy: 0.8685 - val_loss: 0.1718 - val_accuracy: 0.8536\n",
      "Epoch 42/100\n",
      "1094/1094 [==============================] - 46s 42ms/step - loss: 0.1459 - accuracy: 0.8694 - val_loss: 0.1705 - val_accuracy: 0.8536\n",
      "Epoch 43/100\n",
      "1094/1094 [==============================] - 46s 42ms/step - loss: 0.1452 - accuracy: 0.8701 - val_loss: 0.1701 - val_accuracy: 0.8551\n",
      "Epoch 44/100\n",
      "1094/1094 [==============================] - 46s 42ms/step - loss: 0.1447 - accuracy: 0.8701 - val_loss: 0.1711 - val_accuracy: 0.8534\n",
      "Epoch 45/100\n",
      "1094/1094 [==============================] - 46s 42ms/step - loss: 0.1440 - accuracy: 0.8711 - val_loss: 0.1708 - val_accuracy: 0.8549\n",
      "Epoch 46/100\n",
      "1094/1094 [==============================] - 46s 42ms/step - loss: 0.1433 - accuracy: 0.8712 - val_loss: 0.1693 - val_accuracy: 0.8568\n",
      "Epoch 47/100\n",
      "1094/1094 [==============================] - 46s 42ms/step - loss: 0.1428 - accuracy: 0.8725 - val_loss: 0.1689 - val_accuracy: 0.8577\n",
      "Epoch 48/100\n",
      "1094/1094 [==============================] - 46s 42ms/step - loss: 0.1419 - accuracy: 0.8734 - val_loss: 0.1682 - val_accuracy: 0.8575\n",
      "Epoch 49/100\n",
      "1094/1094 [==============================] - 46s 42ms/step - loss: 0.1415 - accuracy: 0.8736 - val_loss: 0.1670 - val_accuracy: 0.8584\n",
      "Epoch 50/100\n",
      "1094/1094 [==============================] - 46s 42ms/step - loss: 0.1407 - accuracy: 0.8745 - val_loss: 0.1683 - val_accuracy: 0.8571\n",
      "Epoch 51/100\n",
      "1094/1094 [==============================] - 46s 42ms/step - loss: 0.1400 - accuracy: 0.8749 - val_loss: 0.1677 - val_accuracy: 0.8593\n",
      "Epoch 52/100\n",
      "1094/1094 [==============================] - 46s 42ms/step - loss: 0.1395 - accuracy: 0.8758 - val_loss: 0.1679 - val_accuracy: 0.8594\n",
      "Epoch 53/100\n",
      "1094/1094 [==============================] - 46s 42ms/step - loss: 0.1386 - accuracy: 0.8764 - val_loss: 0.1668 - val_accuracy: 0.8611\n",
      "Epoch 54/100\n",
      "1094/1094 [==============================] - 46s 42ms/step - loss: 0.1384 - accuracy: 0.8767 - val_loss: 0.1669 - val_accuracy: 0.8619\n",
      "Epoch 55/100\n",
      "1094/1094 [==============================] - 46s 42ms/step - loss: 0.1379 - accuracy: 0.8769 - val_loss: 0.1674 - val_accuracy: 0.8596\n",
      "Epoch 56/100\n"
     ]
    },
    {
     "name": "stdout",
     "output_type": "stream",
     "text": [
      "1094/1094 [==============================] - 46s 42ms/step - loss: 0.1375 - accuracy: 0.8776 - val_loss: 0.1653 - val_accuracy: 0.8622\n",
      "Epoch 57/100\n",
      "1094/1094 [==============================] - 46s 42ms/step - loss: 0.1369 - accuracy: 0.8777 - val_loss: 0.1647 - val_accuracy: 0.8613\n",
      "Epoch 58/100\n",
      "1094/1094 [==============================] - 46s 42ms/step - loss: 0.1363 - accuracy: 0.8783 - val_loss: 0.1659 - val_accuracy: 0.8621\n",
      "Epoch 59/100\n",
      "1094/1094 [==============================] - 46s 42ms/step - loss: 0.1361 - accuracy: 0.8790 - val_loss: 0.1672 - val_accuracy: 0.8584\n",
      "Epoch 60/100\n",
      "1094/1094 [==============================] - 46s 42ms/step - loss: 0.1358 - accuracy: 0.8792 - val_loss: 0.1637 - val_accuracy: 0.8647\n",
      "Epoch 61/100\n",
      "1094/1094 [==============================] - 46s 42ms/step - loss: 0.1354 - accuracy: 0.8793 - val_loss: 0.1639 - val_accuracy: 0.8639\n",
      "Epoch 62/100\n",
      "1094/1094 [==============================] - 46s 42ms/step - loss: 0.1347 - accuracy: 0.8799 - val_loss: 0.1636 - val_accuracy: 0.8647\n",
      "Epoch 63/100\n",
      "1094/1094 [==============================] - 46s 42ms/step - loss: 0.1345 - accuracy: 0.8802 - val_loss: 0.1651 - val_accuracy: 0.8622\n",
      "Epoch 64/100\n",
      "1094/1094 [==============================] - 46s 42ms/step - loss: 0.1344 - accuracy: 0.8797 - val_loss: 0.1644 - val_accuracy: 0.8641\n",
      "Epoch 65/100\n",
      "1094/1094 [==============================] - 46s 42ms/step - loss: 0.1338 - accuracy: 0.8806 - val_loss: 0.1644 - val_accuracy: 0.8647\n",
      "Epoch 66/100\n",
      "1094/1094 [==============================] - 46s 42ms/step - loss: 0.1335 - accuracy: 0.8809 - val_loss: 0.1636 - val_accuracy: 0.8655\n",
      "Epoch 67/100\n",
      "1094/1094 [==============================] - 46s 42ms/step - loss: 0.1334 - accuracy: 0.8811 - val_loss: 0.1643 - val_accuracy: 0.8649\n",
      "Epoch 68/100\n",
      "1094/1094 [==============================] - 46s 42ms/step - loss: 0.1324 - accuracy: 0.8815 - val_loss: 0.1643 - val_accuracy: 0.8661\n",
      "Epoch 69/100\n",
      "1094/1094 [==============================] - 46s 42ms/step - loss: 0.1319 - accuracy: 0.8819 - val_loss: 0.1630 - val_accuracy: 0.8655\n",
      "Epoch 70/100\n",
      "1094/1094 [==============================] - 46s 42ms/step - loss: 0.1316 - accuracy: 0.8820 - val_loss: 0.1636 - val_accuracy: 0.8660\n",
      "Epoch 71/100\n",
      "1094/1094 [==============================] - 46s 42ms/step - loss: 0.1314 - accuracy: 0.8824 - val_loss: 0.1634 - val_accuracy: 0.8647\n",
      "Epoch 72/100\n",
      "1094/1094 [==============================] - 46s 42ms/step - loss: 0.1307 - accuracy: 0.8830 - val_loss: 0.1625 - val_accuracy: 0.8675\n",
      "Epoch 73/100\n",
      "1094/1094 [==============================] - 46s 42ms/step - loss: 0.1306 - accuracy: 0.8828 - val_loss: 0.1623 - val_accuracy: 0.8660\n",
      "Epoch 74/100\n",
      "1094/1094 [==============================] - 46s 42ms/step - loss: 0.1302 - accuracy: 0.8833 - val_loss: 0.1625 - val_accuracy: 0.8673\n",
      "Epoch 75/100\n",
      "1094/1094 [==============================] - 46s 42ms/step - loss: 0.1298 - accuracy: 0.8833 - val_loss: 0.1626 - val_accuracy: 0.8665\n",
      "Epoch 76/100\n",
      "1094/1094 [==============================] - 46s 42ms/step - loss: 0.1295 - accuracy: 0.8838 - val_loss: 0.1644 - val_accuracy: 0.8664\n",
      "Epoch 77/100\n",
      "1094/1094 [==============================] - 46s 42ms/step - loss: 0.1291 - accuracy: 0.8835 - val_loss: 0.1635 - val_accuracy: 0.8646\n",
      "Epoch 78/100\n",
      "1094/1094 [==============================] - 46s 42ms/step - loss: 0.1285 - accuracy: 0.8844 - val_loss: 0.1610 - val_accuracy: 0.8678\n",
      "Epoch 79/100\n",
      "1094/1094 [==============================] - 46s 42ms/step - loss: 0.1283 - accuracy: 0.8846 - val_loss: 0.1638 - val_accuracy: 0.8663\n",
      "Epoch 80/100\n",
      "1094/1094 [==============================] - 46s 42ms/step - loss: 0.1277 - accuracy: 0.8848 - val_loss: 0.1626 - val_accuracy: 0.8668\n",
      "Epoch 81/100\n",
      "1094/1094 [==============================] - 46s 42ms/step - loss: 0.1274 - accuracy: 0.8848 - val_loss: 0.1645 - val_accuracy: 0.8644\n",
      "Epoch 82/100\n",
      "1094/1094 [==============================] - 46s 42ms/step - loss: 0.1268 - accuracy: 0.8852 - val_loss: 0.1624 - val_accuracy: 0.8678\n",
      "Epoch 83/100\n",
      "1094/1094 [==============================] - 46s 42ms/step - loss: 0.1265 - accuracy: 0.8853 - val_loss: 0.1609 - val_accuracy: 0.8686\n",
      "Epoch 84/100\n",
      "1094/1094 [==============================] - 46s 42ms/step - loss: 0.1263 - accuracy: 0.8856 - val_loss: 0.1628 - val_accuracy: 0.8674\n",
      "Epoch 85/100\n",
      "1094/1094 [==============================] - 46s 42ms/step - loss: 0.1262 - accuracy: 0.8854 - val_loss: 0.1608 - val_accuracy: 0.8680\n",
      "Epoch 86/100\n",
      "1094/1094 [==============================] - 46s 42ms/step - loss: 0.1259 - accuracy: 0.8859 - val_loss: 0.1640 - val_accuracy: 0.8664\n",
      "Epoch 87/100\n",
      "1094/1094 [==============================] - 46s 42ms/step - loss: 0.1257 - accuracy: 0.8861 - val_loss: 0.1618 - val_accuracy: 0.8692\n",
      "Epoch 88/100\n",
      "1094/1094 [==============================] - 46s 42ms/step - loss: 0.1254 - accuracy: 0.8861 - val_loss: 0.1606 - val_accuracy: 0.8690\n",
      "Epoch 89/100\n",
      "1094/1094 [==============================] - 46s 42ms/step - loss: 0.1251 - accuracy: 0.8864 - val_loss: 0.1616 - val_accuracy: 0.8693\n",
      "Epoch 90/100\n",
      "1094/1094 [==============================] - 46s 42ms/step - loss: 0.1249 - accuracy: 0.8864 - val_loss: 0.1627 - val_accuracy: 0.8665\n",
      "Epoch 91/100\n",
      "1094/1094 [==============================] - 46s 42ms/step - loss: 0.1247 - accuracy: 0.8865 - val_loss: 0.1612 - val_accuracy: 0.8680\n",
      "Epoch 92/100\n",
      "1094/1094 [==============================] - 46s 42ms/step - loss: 0.1242 - accuracy: 0.8869 - val_loss: 0.1614 - val_accuracy: 0.8688\n",
      "Epoch 93/100\n",
      "1094/1094 [==============================] - 46s 42ms/step - loss: 0.1239 - accuracy: 0.8872 - val_loss: 0.1620 - val_accuracy: 0.8674\n",
      "Epoch 94/100\n",
      "1094/1094 [==============================] - 46s 42ms/step - loss: 0.1238 - accuracy: 0.8872 - val_loss: 0.1603 - val_accuracy: 0.8694\n",
      "Epoch 95/100\n",
      "1094/1094 [==============================] - 46s 42ms/step - loss: 0.1238 - accuracy: 0.8873 - val_loss: 0.1604 - val_accuracy: 0.8695\n",
      "Epoch 96/100\n",
      "1094/1094 [==============================] - 46s 42ms/step - loss: 0.1236 - accuracy: 0.8870 - val_loss: 0.1638 - val_accuracy: 0.8679\n",
      "Epoch 97/100\n",
      "1094/1094 [==============================] - 46s 42ms/step - loss: 0.1234 - accuracy: 0.8873 - val_loss: 0.1664 - val_accuracy: 0.8657\n",
      "Epoch 98/100\n",
      "1094/1094 [==============================] - 46s 42ms/step - loss: 0.1232 - accuracy: 0.8874 - val_loss: 0.1600 - val_accuracy: 0.8711\n",
      "Epoch 99/100\n",
      "1094/1094 [==============================] - 46s 42ms/step - loss: 0.1231 - accuracy: 0.8876 - val_loss: 0.1613 - val_accuracy: 0.8695\n",
      "Epoch 100/100\n",
      "1094/1094 [==============================] - 46s 42ms/step - loss: 0.1230 - accuracy: 0.8872 - val_loss: 0.1626 - val_accuracy: 0.8695\n"
     ]
    },
    {
     "data": {
      "text/plain": [
       "<keras.callbacks.History at 0x7f0e0acb8670>"
      ]
     },
     "execution_count": 35,
     "metadata": {},
     "output_type": "execute_result"
    }
   ],
   "source": [
    "epochs = 100  # This should be at least 30 for convergence\n",
    "\n",
    "checkpoint = ModelCheckpoint('Eng_to_Hindi' + \".hdf5\", monitor='loss',\n",
    "    save_best_only=True, mode='auto',save_freq=\"epoch\",)\n",
    "\n",
    "transformer.compile(\n",
    "    optimizer, loss=\"sparse_categorical_crossentropy\", metrics=[\"accuracy\"]\n",
    ")\n",
    "transformer.fit(train_ds, epochs=epochs, validation_data=val_ds, callbacks=[checkpoint])"
   ]
  },
  {
   "cell_type": "code",
   "execution_count": 41,
   "id": "c2a71b09",
   "metadata": {},
   "outputs": [
    {
     "name": "stdout",
     "output_type": "stream",
     "text": [
      "(One of the Standard 14 Fonts) [start] मानक गुम हो गया है डिस्क [end]\n",
      "Sensitive [start] संवेदनशील [end]\n",
      "You have already given proxy permissions to this user. [start] आपके पास पहले से प्राक्सी अनुमति दी प्रयोग नहीं है [end]\n",
      "MD5 Fingerprint: [start] md5 फिंगरप्रिंट [end]\n",
      "_ Select [start] चुनें [end]\n",
      "_ Rooms [start] कक्ष r [end]\n",
      "“% s” is not a valid contact ID [start] अवैध संपर्क [end]\n",
      "Invalid query [start] अवैध प्रश्न [end]\n",
      "% s asks the permission to see your presence. [start] s आपकी उपस्थिति को देखने के लिए अनुमति चाहता है [end]\n",
      "% s Invite required:% s Password required:% s Members:% s [start] s आमंत्रण [end]\n",
      "Create a video DVD or an SVCD that are readable on TV readers [start] एक विडियो डीवीडी या एसवीसीडी बनाएँ जो कि टीवी फ़ाइल में तैयार है [end]\n",
      "Highlight All [start] सभी आलोकित करें [end]\n",
      "A _ ttach [start] एक [end]\n",
      "Select the game type to play [start] [end]\n",
      "Subversion: Copy complete. [start] सबवर्सन नक़ल पूर्ण [end]\n",
      "Line _ Wrapping [start] पंक्ति [end]\n",
      "Whether to use the \"- immed\" flag with cdrecord. Use with caution (set to true) as it 's only a workaround for some drives / setups. [start] क्या immed फ्लैग को cdrecord के साथ प्रयोग करना है उदा [end]\n",
      "Use custom author information: [start] उपयोग पसंदीदा लेखक [end]\n",
      "Open the specified playlist as an audio project [start] बतौर ऑडियो परियोजना निर्दिष्ट गीतसूची खोलें [end]\n",
      "_ Spouse: [start] जीवनसाथी [end]\n",
      "Status messages [start] स्थिति संदेश [end]\n",
      "300% [start] 300 [end]\n",
      "Process \"% s\" ended with an error code (% i) [start] प्रक्रिया s किसी त्रुटि कोड i के साथ समाप्त हुआ [end]\n",
      "Evince is distributed in the hope that it will be useful, but WITHOUT ANY WARRANTY; without even the implied warranty of MERCHANTABILITY or FITNESS FOR A PARTICULAR PURPOSE. See the GNU General Public License for more details. [start] evince is distributed in the hope that it will be useful but without any warranty without even the implied warranty of merchantability or fitness for a particular purpose see the gnu general public license for more details [end]\n",
      "Create an SVCD [start] एसवीसीडी बनाएँ [end]\n",
      "News Feeds [start] समाचार elm [end]\n",
      "Alias: [start] उपनाम [end]\n",
      "Vertex Source [start] शीर्ष स्रोत [end]\n",
      "{0: 0. 0} MB [start] 0 0 [end]\n",
      "Develop software in an integrated development environment [start] आंतरिक पाया इंच [end]\n"
     ]
    }
   ],
   "source": [
    "hi_vocab = hi_vectorization.get_vocabulary()\n",
    "hi_index_lookup = dict(zip(range(len(hi_vocab)), hi_vocab))\n",
    "max_decoded_sentence_length = sequence_length\n",
    "\n",
    "\n",
    "def decode_sequence(input_sentence):\n",
    "    tokenized_input_sentence = eng_vectorization([input_sentence])\n",
    "    decoded_sentence = \"[start]\"\n",
    "    for i in range(max_decoded_sentence_length):\n",
    "        tokenized_target_sentence = hi_vectorization([decoded_sentence])[:, :-1]\n",
    "        predictions = transformer([tokenized_input_sentence, tokenized_target_sentence])\n",
    "\n",
    "        sampled_token_index = np.argmax(predictions[0, i, :])\n",
    "        sampled_token = hi_index_lookup[sampled_token_index]\n",
    "        decoded_sentence += \" \" + sampled_token\n",
    "\n",
    "        if sampled_token == \"[end]\":\n",
    "            break\n",
    "    return decoded_sentence\n",
    "\n",
    "\n",
    "test_eng_texts = [pair[0] for pair in test_pairs]\n",
    "for _ in range(30):\n",
    "    input_sentence = random.choice(test_eng_texts)\n",
    "    translated = decode_sequence(input_sentence)\n",
    "    \n",
    "    print(input_sentence, translated)"
   ]
  }
 ],
 "metadata": {
  "kernelspec": {
   "display_name": "Python 3 (ipykernel)",
   "language": "python",
   "name": "python3"
  },
  "language_info": {
   "codemirror_mode": {
    "name": "ipython",
    "version": 3
   },
   "file_extension": ".py",
   "mimetype": "text/x-python",
   "name": "python",
   "nbconvert_exporter": "python",
   "pygments_lexer": "ipython3",
   "version": "3.9.12"
  }
 },
 "nbformat": 4,
 "nbformat_minor": 5
}
